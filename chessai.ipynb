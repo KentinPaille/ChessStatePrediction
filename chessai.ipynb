{
 "cells": [
  {
   "cell_type": "code",
   "execution_count": null,
   "id": "a1722d38",
   "metadata": {},
   "outputs": [
    {
     "name": "stdout",
     "output_type": "stream",
     "text": [
      "Current board state:\n",
      " 4  0  4  0  0  0  6  0\n",
      " 0  0 -2  2  0  1  2  0\n",
      " 1  0  0  1  1 -3  1  0\n",
      " 0 -1  0  0 -1  0  0  0\n",
      " 0  0  0  0  0  0  0  5\n",
      " 0 -1  0  0  0  0  0  0\n",
      "-1  0  0 -5 -2  0 -1 -1\n",
      " 0  0 -4  0  0 -4 -6  0\n",
      "\n"
     ]
    }
   ],
   "source": [
    "import pandas as pd\n",
    "import importlib\n",
    "import parse_chess_state as parsed\n",
    "importlib.reload(parsed)\n",
    "\n",
    "datasets = pd.read_csv('./datasets/check/many_pieces.txt', sep=' ', header=None)\n",
    "data = parsed.parallel_batch_fens_to_arrays(datasets[0][:10000].values.tolist(), 4)\n",
    "parsed.print_board(data[0])\n"
   ]
  },
  {
   "cell_type": "code",
   "execution_count": 32,
   "id": "c2e8a54f",
   "metadata": {},
   "outputs": [
    {
     "data": {
      "text/plain": [
       "(10000, 8, 8)"
      ]
     },
     "execution_count": 32,
     "metadata": {},
     "output_type": "execute_result"
    }
   ],
   "source": [
    "data.shape"
   ]
  },
  {
   "cell_type": "code",
   "execution_count": null,
   "id": "adb99489",
   "metadata": {},
   "outputs": [
    {
     "name": "stdout",
     "output_type": "stream",
     "text": [
      "Current board state:\n",
      " 4  0  4  0  0  0  6  0\n",
      " 0  0 -2  2  0  1  2  0\n",
      " 1  0  0  1  1 -3  1  0\n",
      " 0 -1  0  0 -1  0  0  0\n",
      " 0  0  0  0  0  0  0  5\n",
      " 0 -1  0  0  0  0  0  0\n",
      "-1  0  0 -5 -2  0 -1 -1\n",
      " 0  0 -4  0  0 -4 -6  0\n",
      "\n"
     ]
    }
   ],
   "source": []
  }
 ],
 "metadata": {
  "kernelspec": {
   "display_name": "Python 3",
   "language": "python",
   "name": "python3"
  },
  "language_info": {
   "codemirror_mode": {
    "name": "ipython",
    "version": 3
   },
   "file_extension": ".py",
   "mimetype": "text/x-python",
   "name": "python",
   "nbconvert_exporter": "python",
   "pygments_lexer": "ipython3",
   "version": "3.11.9"
  }
 },
 "nbformat": 4,
 "nbformat_minor": 5
}
