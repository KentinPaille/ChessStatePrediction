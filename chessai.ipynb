{
 "cells": [
  {
   "cell_type": "code",
   "execution_count": 45,
   "id": "a1722d38",
   "metadata": {},
   "outputs": [
    {
     "data": {
      "text/plain": [
       "<module 'utils.parse_chess_state' from 'c:\\\\Users\\\\kenti\\\\Practical deep learning\\\\ChessPrediction\\\\utils\\\\parse_chess_state.py'>"
      ]
     },
     "execution_count": 45,
     "metadata": {},
     "output_type": "execute_result"
    }
   ],
   "source": [
    "import pandas as pd\n",
    "import numpy as np\n",
    "from sklearn.model_selection import train_test_split\n",
    "from sklearn.preprocessing import LabelEncoder\n",
    "import tensorflow as tf\n",
    "from tensorflow.keras.models import Sequential\n",
    "from tensorflow.keras.layers import Conv2D, Flatten, Dense, Input\n",
    "from tensorflow.keras.utils import to_categorical\n",
    "\n",
    "\n",
    "import importlib\n",
    "import utils.parse_chess_state as parsed\n",
    "importlib.reload(parsed)"
   ]
  },
  {
   "cell_type": "code",
   "execution_count": 47,
   "id": "c2e8a54f",
   "metadata": {},
   "outputs": [
    {
     "name": "stdout",
     "output_type": "stream",
     "text": [
      "Dataset loaded: (725288, 2)\n",
      "Encodage des FEN (one-hot spatial)...\n"
     ]
    }
   ],
   "source": [
    "df = pd.read_csv(\"./datasets/all_fens_labeled.csv\")\n",
    "print(\"Dataset loaded:\", df.shape)\n",
    "\n",
    "label_encoder = LabelEncoder()\n",
    "y = label_encoder.fit_transform(df[\"State\"].values)\n",
    "num_classes = len(label_encoder.classes_)\n",
    "y_cat = to_categorical(y, num_classes=num_classes)\n",
    "\n",
    "print(\"Encodage des FEN (one-hot spatial)...\")\n",
    "X = np.array([parsed.fen_to_onehot(fen) for fen in df[\"FEN\"].values])\n",
    "\n",
    "X_train, X_test, y_train, y_test = train_test_split(\n",
    "    X, y_cat, test_size=0.2, stratify=y, random_state=42\n",
    ")"
   ]
  },
  {
   "cell_type": "code",
   "execution_count": 48,
   "id": "55ca3539",
   "metadata": {},
   "outputs": [
    {
     "name": "stdout",
     "output_type": "stream",
     "text": [
      "Epoch 1/3\n",
      "16319/16319 - 48s - 3ms/step - accuracy: 0.7767 - loss: 0.5138 - val_accuracy: 0.8473 - val_loss: 0.3729\n",
      "Epoch 2/3\n",
      "16319/16319 - 46s - 3ms/step - accuracy: 0.8662 - loss: 0.3315 - val_accuracy: 0.8758 - val_loss: 0.3106\n",
      "Epoch 3/3\n",
      "16319/16319 - 48s - 3ms/step - accuracy: 0.8901 - loss: 0.2771 - val_accuracy: 0.8857 - val_loss: 0.2877\n",
      "4534/4534 - 7s - 1ms/step - accuracy: 0.8858 - loss: 0.2853\n",
      "Test accuracy: 0.886\n"
     ]
    }
   ],
   "source": [
    "model = Sequential([\n",
    "    Input(shape=(8, 8, 13)),\n",
    "    Conv2D(32, (3, 3), activation='relu', padding='same'),\n",
    "    Conv2D(32, (3, 3), activation='relu', padding='same'),\n",
    "    Flatten(),\n",
    "    Dense(64, activation='relu'),\n",
    "    Dense(num_classes, activation='softmax')\n",
    "])\n",
    "\n",
    "model.compile(optimizer='adam', loss='categorical_crossentropy', metrics=['accuracy'])\n",
    "\n",
    "history = model.fit(\n",
    "    X_train, y_train,\n",
    "    epochs=3,\n",
    "    batch_size=32,\n",
    "    validation_split=0.1,\n",
    "    verbose=2\n",
    ")\n",
    "\n",
    "loss, acc = model.evaluate(X_test, y_test, verbose=2)\n",
    "print(f\"Test accuracy: {acc:.3f}\")"
   ]
  },
  {
   "cell_type": "code",
   "execution_count": 49,
   "id": "d78fe0d1",
   "metadata": {},
   "outputs": [
    {
     "name": "stdout",
     "output_type": "stream",
     "text": [
      "Example FEN: 8/1k6/2r5/3Q4/8/8/8/4K3 b\n",
      "\u001b[1m1/1\u001b[0m \u001b[32m━━━━━━━━━━━━━━━━━━━━\u001b[0m\u001b[37m\u001b[0m \u001b[1m0s\u001b[0m 64ms/step\n",
      "Predicted state: ongoing\n"
     ]
    }
   ],
   "source": [
    "def predict_fen(fen):\n",
    "    x = np.array([parsed.fen_to_onehot(fen)])\n",
    "    pred = model.predict(x)\n",
    "    class_idx = np.argmax(pred)\n",
    "    return label_encoder.inverse_transform([class_idx])[0]\n",
    "\n",
    "example_fen = \"8/1k6/2r5/3Q4/8/8/8/4K3 b\"\n",
    "print(\"Example FEN:\", example_fen)\n",
    "print(\"Predicted state:\", predict_fen(example_fen))"
   ]
  }
 ],
 "metadata": {
  "kernelspec": {
   "display_name": "Python 3",
   "language": "python",
   "name": "python3"
  },
  "language_info": {
   "codemirror_mode": {
    "name": "ipython",
    "version": 3
   },
   "file_extension": ".py",
   "mimetype": "text/x-python",
   "name": "python",
   "nbconvert_exporter": "python",
   "pygments_lexer": "ipython3",
   "version": "3.11.9"
  }
 },
 "nbformat": 4,
 "nbformat_minor": 5
}
